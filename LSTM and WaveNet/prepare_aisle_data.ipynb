{
 "cells": [
  {
   "cell_type": "code",
   "execution_count": 1,
   "metadata": {},
   "outputs": [],
   "source": [
    "from collections import Counter\n",
    "import os\n",
    "\n",
    "import numpy as np\n",
    "import pandas as pd"
   ]
  },
  {
   "cell_type": "code",
   "execution_count": 2,
   "metadata": {},
   "outputs": [],
   "source": [
    "def pad_1d(array, max_len):\n",
    "    if not isinstance(array, list):\n",
    "        array = list(array)\n",
    "    array = array[:max_len]\n",
    "    length = len(array)\n",
    "    if not length:\n",
    "        print(array)\n",
    "    padded = array + [0]*(max_len - len(array))\n",
    "    return padded, length"
   ]
  },
  {
   "cell_type": "markdown",
   "metadata": {},
   "source": [
    "# MAIN FLOW"
   ]
  },
  {
   "cell_type": "code",
   "execution_count": 3,
   "metadata": {},
   "outputs": [],
   "source": [
    "aisle_data = pd.read_csv('../data/processed/aisle_data.csv')\n",
    "num_rows = len(aisle_data)"
   ]
  },
  {
   "cell_type": "code",
   "execution_count": 4,
   "metadata": {},
   "outputs": [],
   "source": [
    "user_id = np.zeros(shape=[num_rows], dtype=np.int32)\n",
    "aisle_id = np.zeros(shape=[num_rows], dtype=np.int16)\n",
    "department_id = np.zeros(shape=[num_rows], dtype=np.uint8)\n",
    "eval_set = np.zeros(shape=[num_rows], dtype='S5')\n",
    "\n",
    "is_ordered_history = np.zeros(shape=[num_rows, 100], dtype=np.uint8)\n",
    "index_in_order_history = np.zeros(shape=[num_rows, 100], dtype=np.uint8)\n",
    "order_size_history = np.zeros(shape=[num_rows, 100], dtype=np.uint8)\n",
    "order_dow_history = np.zeros(shape=[num_rows, 100], dtype=np.uint8)\n",
    "order_hour_history = np.zeros(shape=[num_rows, 100], dtype=np.uint8)\n",
    "days_since_prior_order_history = np.zeros(shape=[num_rows, 100], dtype=np.uint8)\n",
    "order_number_history = np.zeros(shape=[num_rows, 100], dtype=np.uint8)\n",
    "num_products_from_aisle_history = np.zeros(shape=[num_rows, 100], dtype=np.int16)\n",
    "\n",
    "history_length = np.zeros(shape=[num_rows], dtype=np.uint8)"
   ]
  },
  {
   "cell_type": "code",
   "execution_count": 5,
   "metadata": {},
   "outputs": [],
   "source": [
    "import warnings\n",
    "warnings.filterwarnings(\"error\")"
   ]
  },
  {
   "cell_type": "code",
   "execution_count": null,
   "metadata": {},
   "outputs": [],
   "source": [
    "for i, row in aisle_data.iterrows():\n",
    "    if i % 10000 == 0:\n",
    "        print(i, num_rows)\n",
    "\n",
    "    user_id[i] = row['user_id']\n",
    "    aisle_id[i] = row['aisle_id']\n",
    "    department_id[i] = row['department_id']\n",
    "    eval_set[i] = row['eval_set']\n",
    "\n",
    "    is_ordered_history[i, :], history_length[i] = pad_1d(map(int, row['is_ordered_history'].split()), 100)\n",
    "    index_in_order_history[i, :], _ = pad_1d(map(int, row['index_in_order_history'].split()), 100)\n",
    "    order_size_history[i, :], _ = pad_1d(map(int, row['order_size_history'].split()), 100)\n",
    "    order_dow_history[i, :], _ = pad_1d(map(int, row['order_dow_history'].split()), 100)\n",
    "    order_hour_history[i, :], _ = pad_1d(map(int, row['order_hour_history'].split()), 100)\n",
    "    days_since_prior_order_history[i, :], _ = pad_1d(map(int, row['days_since_prior_order_history'].split()), 100)\n",
    "    order_number_history[i, :], _ = pad_1d(map(int, row['order_number_history'].split()), 100)\n",
    "    num_products_from_aisle_history[i, :], _ = pad_1d(map(int, row['num_products_from_aisle_history'].split()), 100)\n"
   ]
  },
  {
   "cell_type": "code",
   "execution_count": 7,
   "metadata": {},
   "outputs": [],
   "source": [
    "if not os.path.isdir('data'):\n",
    "    os.mkdir('data')"
   ]
  },
  {
   "cell_type": "code",
   "execution_count": 8,
   "metadata": {},
   "outputs": [],
   "source": [
    "np.save('data/user_id.npy', user_id)\n",
    "np.save('data/aisle_id.npy', aisle_id)\n",
    "np.save('data/department_id.npy', department_id)\n",
    "np.save('data/eval_set.npy', eval_set)\n",
    "\n",
    "np.save('data/is_ordered_history.npy', is_ordered_history)\n",
    "np.save('data/index_in_order_history.npy', index_in_order_history)\n",
    "np.save('data/order_dow_history.npy', order_dow_history)\n",
    "np.save('data/order_hour_history.npy', order_hour_history)\n",
    "np.save('data/days_since_prior_order_history.npy', days_since_prior_order_history)\n",
    "np.save('data/order_size_history.npy', order_size_history)\n",
    "np.save('data/order_number_history.npy', order_number_history)\n",
    "np.save('data/num_products_from_aisle_history.npy', num_products_from_aisle_history)\n",
    "\n",
    "np.save('data/history_length.npy', history_length)"
   ]
  },
  {
   "cell_type": "code",
   "execution_count": null,
   "metadata": {},
   "outputs": [],
   "source": []
  }
 ],
 "metadata": {
  "kernelspec": {
   "display_name": "RecSys",
   "language": "python",
   "name": "python3"
  },
  "language_info": {
   "codemirror_mode": {
    "name": "ipython",
    "version": 3
   },
   "file_extension": ".py",
   "mimetype": "text/x-python",
   "name": "python",
   "nbconvert_exporter": "python",
   "pygments_lexer": "ipython3",
   "version": "3.9.20"
  }
 },
 "nbformat": 4,
 "nbformat_minor": 2
}
