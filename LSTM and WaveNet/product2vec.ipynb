{
 "cells": [
  {
   "cell_type": "code",
   "execution_count": 5,
   "metadata": {},
   "outputs": [],
   "source": [
    "import pickle\n",
    "from gensim.models import Word2Vec"
   ]
  },
  {
   "cell_type": "code",
   "execution_count": 6,
   "metadata": {},
   "outputs": [],
   "source": [
    "with open('data/orders.pkl', 'rb') as f:\n",
    "    orders = pickle.load(f)"
   ]
  },
  {
   "cell_type": "code",
   "execution_count": 7,
   "metadata": {},
   "outputs": [],
   "source": [
    "orders_str = [[str(product_id) for product_id in order] for order in orders]"
   ]
  },
  {
   "cell_type": "code",
   "execution_count": null,
   "metadata": {},
   "outputs": [],
   "source": [
    "embedding_size = 50  # Dimensionality of the embeddings\n",
    "window_size = 5       # Context window size\n",
    "min_count = 1         # Minimum frequency count of words\n",
    "workers = 4           # Number of CPU cores to use\n",
    "\n",
    "# Initialize and train the model\n",
    "model = Word2Vec(\n",
    "    sentences=orders_str,\n",
    "    vector_size=embedding_size,\n",
    "    window=window_size,\n",
    "    min_count=min_count,\n",
    "    workers=workers,\n",
    "    sg=1  # Use Skip-gram; set to 0 for CBOW\n",
    ")\n",
    "\n",
    "# Build the vocabulary\n",
    "model.build_vocab(orders_str, progress_per=1)\n",
    "\n",
    "# Train the model\n",
    "model.train(orders_str, total_examples=model.corpus_count, epochs=model.epochs)"
   ]
  },
  {
   "cell_type": "code",
   "execution_count": 5,
   "metadata": {},
   "outputs": [],
   "source": [
    "product_set = set()\n",
    "for order in orders:\n",
    "    for product in order:\n",
    "        product_set.add(product)"
   ]
  },
  {
   "cell_type": "code",
   "execution_count": 6,
   "metadata": {},
   "outputs": [],
   "source": [
    "prod_to_vec = dict()\n",
    "for product in product_set:\n",
    "    prod_to_vec[product] = model.wv[str(product)]"
   ]
  },
  {
   "cell_type": "code",
   "execution_count": null,
   "metadata": {},
   "outputs": [],
   "source": [
    "prod_to_vec[0] = model.wv['0']"
   ]
  },
  {
   "cell_type": "code",
   "execution_count": null,
   "metadata": {},
   "outputs": [],
   "source": [
    "prod_to_vec[3]"
   ]
  },
  {
   "cell_type": "code",
   "execution_count": 9,
   "metadata": {},
   "outputs": [],
   "source": [
    "with open(\"data/prod_to_vec.pkl\", 'wb') as f:\n",
    "    pickle.dump(prod_to_vec, f)"
   ]
  },
  {
   "cell_type": "code",
   "execution_count": null,
   "metadata": {},
   "outputs": [],
   "source": []
  }
 ],
 "metadata": {
  "kernelspec": {
   "display_name": "RecSys",
   "language": "python",
   "name": "python3"
  },
  "language_info": {
   "codemirror_mode": {
    "name": "ipython",
    "version": 3
   },
   "file_extension": ".py",
   "mimetype": "text/x-python",
   "name": "python",
   "nbconvert_exporter": "python",
   "pygments_lexer": "ipython3",
   "version": "3.9.20"
  }
 },
 "nbformat": 4,
 "nbformat_minor": 2
}
