{
 "cells": [
  {
   "cell_type": "code",
   "execution_count": 1,
   "metadata": {},
   "outputs": [],
   "source": [
    "from collections import Counter\n",
    "import os\n",
    "\n",
    "import numpy as np\n",
    "import pandas as pd"
   ]
  },
  {
   "cell_type": "code",
   "execution_count": 9,
   "metadata": {},
   "outputs": [],
   "source": [
    "def pad_1d(array, max_len):\n",
    "    if not isinstance(array, list):\n",
    "        array = list(array)\n",
    "    array = array[:max_len]\n",
    "    length = len(array)\n",
    "    if not length:\n",
    "        print(array)\n",
    "    padded = array + [0]*(max_len - len(array))\n",
    "    return padded, length"
   ]
  },
  {
   "cell_type": "markdown",
   "metadata": {},
   "source": [
    "# MAIN FLOW"
   ]
  },
  {
   "cell_type": "code",
   "execution_count": 10,
   "metadata": {},
   "outputs": [],
   "source": [
    "user_data = pd.read_csv('../data/processed/user_data.csv')\n",
    "num_rows = len(user_data)\n",
    "\n",
    "order_size_history = np.zeros(shape=[num_rows, 100], dtype=np.uint8)\n",
    "reorder_size_history = np.zeros(shape=[num_rows, 100], dtype=np.uint8)\n",
    "order_number_history = np.zeros(shape=[num_rows, 100], dtype=np.uint8)\n",
    "order_dow_history = np.zeros(shape=[num_rows, 100], dtype=np.uint8)\n",
    "order_hour_history = np.zeros(shape=[num_rows, 100], dtype=np.uint8)\n",
    "days_since_prior_order_history = np.zeros(shape=[num_rows, 100], dtype=np.uint8)\n",
    "\n",
    "history_length = np.zeros(shape=[num_rows], dtype=np.uint8)\n",
    "label = np.zeros(shape=[num_rows], dtype=np.uint8)\n",
    "eval_set = np.zeros(shape=[num_rows], dtype='S5')\n",
    "user_id = np.zeros(shape=[num_rows], dtype=np.uint64)\n"
   ]
  },
  {
   "cell_type": "code",
   "execution_count": 11,
   "metadata": {},
   "outputs": [],
   "source": [
    "import warnings\n",
    "warnings.filterwarnings(\"error\")"
   ]
  },
  {
   "cell_type": "code",
   "execution_count": 6,
   "metadata": {},
   "outputs": [],
   "source": [
    "if not os.path.isdir('data'):\n",
    "    os.mkdir('data')"
   ]
  },
  {
   "cell_type": "code",
   "execution_count": null,
   "metadata": {},
   "outputs": [],
   "source": [
    "for idx, row in user_data.iterrows():\n",
    "\n",
    "    if idx % 10000 == 0:\n",
    "        print(idx)\n",
    "\n",
    "    products = row['product_ids']\n",
    "    products, next_products = ' '.join(products.split()[:-1]), products.split()[-1]\n",
    "\n",
    "    reorders = row['reorders']\n",
    "    reorders, next_reorders = ' '.join(reorders.split()[:-1]), reorders.split()[-1]\n",
    "\n",
    "    orders = [list(map(int, i.split('_'))) for i in products.split()]\n",
    "    reorders = [list(map(int, i.split('_'))) for i in reorders.split()]\n",
    "\n",
    "    next_reorders = list(map(int, next_reorders.split('_')))\n",
    "    next_orders = list(map(int, next_products.split('_')))\n",
    "\n",
    "    order_sizes = [len(i) for i in orders]\n",
    "    reorder_sizes = [sum(i) for i in reorders]\n",
    "\n",
    "    order_size_history[idx, :], history_length[idx] = pad_1d(order_sizes, 100)\n",
    "    reorder_size_history[idx, :], _ = pad_1d(reorder_sizes, 100)\n",
    "    print(_, history_length[idx])\n",
    "    order_number_history[idx, :], _ = pad_1d(map(int, row['order_numbers'].strip().split()), 100)\n",
    "    order_dow_history[idx, :], _ = pad_1d(map(int, row['order_dows'].strip().split()), 100)\n",
    "    order_hour_history[idx, :], _ = pad_1d(map(int, row['order_hours'].strip().split()), 100)\n",
    "    days_since_prior_order_history[idx, :], _ = pad_1d(map(int, row['days_since_prior_orders'].strip().split()), 100)\n",
    "\n",
    "\n",
    "    label[idx] = sum(next_reorders)\n",
    "    eval_set[idx] = row['eval_set']\n",
    "    user_id[idx] = row['user_id']\n"
   ]
  },
  {
   "cell_type": "code",
   "execution_count": 7,
   "metadata": {},
   "outputs": [],
   "source": [
    "np.save('data/order_size_history.npy', order_size_history)\n",
    "np.save('data/reorder_size_history.npy', reorder_size_history)\n",
    "np.save('data/order_number_history.npy', order_number_history)\n",
    "np.save('data/order_dow_history.npy', order_dow_history)\n",
    "np.save('data/order_hour_history.npy', order_hour_history)\n",
    "np.save('data/days_since_prior_order_history.npy', days_since_prior_order_history)\n",
    "np.save('data/history_length.npy', history_length)\n",
    "np.save('data/label.npy', label)\n",
    "np.save('data/eval_set.npy', eval_set)\n",
    "np.save('data/user_id.npy', user_id)"
   ]
  },
  {
   "cell_type": "code",
   "execution_count": null,
   "metadata": {},
   "outputs": [],
   "source": []
  }
 ],
 "metadata": {
  "kernelspec": {
   "display_name": "RecSys",
   "language": "python",
   "name": "python3"
  },
  "language_info": {
   "codemirror_mode": {
    "name": "ipython",
    "version": 3
   },
   "file_extension": ".py",
   "mimetype": "text/x-python",
   "name": "python",
   "nbconvert_exporter": "python",
   "pygments_lexer": "ipython3",
   "version": "3.9.20"
  }
 },
 "nbformat": 4,
 "nbformat_minor": 2
}
