{
 "cells": [
  {
   "cell_type": "code",
   "execution_count": null,
   "metadata": {
    "colab": {
     "base_uri": "https://localhost:8080/"
    },
    "executionInfo": {
     "elapsed": 1795,
     "status": "ok",
     "timestamp": 1735184584828,
     "user": {
      "displayName": "Phong Bùi",
      "userId": "01930406984270562856"
     },
     "user_tz": -420
    },
    "id": "w98hn482FF78",
    "outputId": "9bf8f751-2c57-4a45-fcde-ebac1fd7b867"
   },
   "outputs": [],
   "source": [
    "!pip install lightgbm"
   ]
  },
  {
   "cell_type": "code",
   "execution_count": 1,
   "metadata": {
    "executionInfo": {
     "elapsed": 1327,
     "status": "ok",
     "timestamp": 1735184664504,
     "user": {
      "displayName": "Phong Bùi",
      "userId": "01930406984270562856"
     },
     "user_tz": -420
    },
    "id": "c0rjTLFgFIR2"
   },
   "outputs": [],
   "source": [
    "import gc\n",
    "import os\n",
    "import pprint as pp\n",
    "\n",
    "import lightgbm as lgb\n",
    "import numpy as np\n",
    "import pandas as pd\n",
    "from sklearn.model_selection import train_test_split"
   ]
  },
  {
   "cell_type": "code",
   "execution_count": null,
   "metadata": {
    "colab": {
     "base_uri": "https://localhost:8080/"
    },
    "executionInfo": {
     "elapsed": 2700,
     "status": "ok",
     "timestamp": 1735184667202,
     "user": {
      "displayName": "Phong Bùi",
      "userId": "01930406984270562856"
     },
     "user_tz": -420
    },
    "id": "_RqnnMzVcq84",
    "outputId": "2f0f2f98-e00b-447d-d53e-e0a2f0488828"
   },
   "outputs": [],
   "source": [
    "from google.colab import drive\n",
    "drive.mount('/content/drive')"
   ]
  },
  {
   "cell_type": "code",
   "execution_count": null,
   "metadata": {
    "id": "abX6Ikv2FamI"
   },
   "outputs": [],
   "source": [
    "order_id = np.load('prepped_data/order_id.npy')\n",
    "product_id = np.load('prepped_data/product_id.npy')\n",
    "features = np.load('prepped_data/features.npy')\n",
    "feature_names = np.load('prepped_data/feature_names.npy', allow_pickle=True)\n",
    "label = np.load('prepped_data/label.npy')"
   ]
  },
  {
   "cell_type": "code",
   "execution_count": null,
   "metadata": {
    "id": "jx4qasZ8Ffwq"
   },
   "outputs": [],
   "source": [
    "product_df = pd.DataFrame(data=features, columns=feature_names)\n",
    "product_df['order_id'] = order_id\n",
    "product_df['product_id'] = product_id\n",
    "product_df['label'] = label\n"
   ]
  },
  {
   "cell_type": "code",
   "execution_count": null,
   "metadata": {
    "colab": {
     "base_uri": "https://localhost:8080/"
    },
    "executionInfo": {
     "elapsed": 5,
     "status": "ok",
     "timestamp": 1735141275604,
     "user": {
      "displayName": "Phong Bùi",
      "userId": "01930406984270562856"
     },
     "user_tz": -420
    },
    "id": "ANFjx2-PFlJN",
    "outputId": "6f3c7246-7692-4e9c-e7b0-9a247c864411"
   },
   "outputs": [],
   "source": [
    "del order_id, product_id, features, feature_names, label\n",
    "gc.collect()"
   ]
  },
  {
   "cell_type": "code",
   "execution_count": null,
   "metadata": {
    "id": "YllN2gfwFlz8"
   },
   "outputs": [],
   "source": [
    "drop_cols = [i for i in product_df.columns if i.startswith('dmf')]\n",
    "drop_cols += ['order_id', 'product_id', 'label']\n",
    "\n",
    "# training\n",
    "train_df = product_df[product_df['label'] != -1]\n",
    "test_df = product_df[product_df['label'] == -1]\n",
    "train_df, val_df = train_test_split(train_df, train_size=.99)\n"
   ]
  },
  {
   "cell_type": "code",
   "execution_count": null,
   "metadata": {
    "colab": {
     "base_uri": "https://localhost:8080/"
    },
    "executionInfo": {
     "elapsed": 6,
     "status": "ok",
     "timestamp": 1734783542621,
     "user": {
      "displayName": "Phong Bùi",
      "userId": "01930406984270562856"
     },
     "user_tz": -420
    },
    "id": "49ZOQD4pFqeH",
    "outputId": "d1126b32-d1e8-496e-eba0-1677f809d452"
   },
   "outputs": [],
   "source": [
    "del product_df\n",
    "gc.collect()"
   ]
  },
  {
   "cell_type": "code",
   "execution_count": null,
   "metadata": {
    "id": "zZ7cuOVXFuR2"
   },
   "outputs": [],
   "source": [
    "Y_train, Y_val = train_df['label'].astype(int).astype(float), val_df['label'].astype(int).astype(float)\n",
    "X_train, X_val = train_df.drop(drop_cols, axis=1), val_df.drop(drop_cols, axis=1)"
   ]
  },
  {
   "cell_type": "code",
   "execution_count": null,
   "metadata": {
    "colab": {
     "base_uri": "https://localhost:8080/"
    },
    "executionInfo": {
     "elapsed": 4,
     "status": "ok",
     "timestamp": 1734783552244,
     "user": {
      "displayName": "Phong Bùi",
      "userId": "01930406984270562856"
     },
     "user_tz": -420
    },
    "id": "u4E2KM6-Fw3P",
    "outputId": "3ae73cfb-c17d-48ea-b133-e4794391fa62"
   },
   "outputs": [],
   "source": [
    "del train_df\n",
    "gc.collect()"
   ]
  },
  {
   "cell_type": "code",
   "execution_count": null,
   "metadata": {
    "id": "mgKvue2HFx0t"
   },
   "outputs": [],
   "source": [
    "test_orders = test_df['order_id']\n",
    "test_products = test_df['product_id']\n",
    "test_labels = test_df['label']\n",
    "X_test = test_df.drop(drop_cols, axis=1)"
   ]
  },
  {
   "cell_type": "code",
   "execution_count": null,
   "metadata": {
    "colab": {
     "base_uri": "https://localhost:8080/",
     "height": 156
    },
    "executionInfo": {
     "elapsed": 374,
     "status": "error",
     "timestamp": 1734783563405,
     "user": {
      "displayName": "Phong Bùi",
      "userId": "01930406984270562856"
     },
     "user_tz": -420
    },
    "id": "nR3-5F-_Fxpa",
    "outputId": "9acbb0ab-daf3-4f53-de40-450a7115935d"
   },
   "outputs": [],
   "source": [
    "del test_df\n",
    "gc.collect()"
   ]
  },
  {
   "cell_type": "code",
   "execution_count": null,
   "metadata": {
    "id": "lCelBut9Fxgn"
   },
   "outputs": [],
   "source": [
    "params = {\n",
    "    'task': 'train',\n",
    "    'boosting_type': 'gbdt',\n",
    "    'objective': 'binary',\n",
    "    'metric': {'binary_logloss'},\n",
    "    'learning_rate': .02,\n",
    "    'num_leaves': 32,\n",
    "    'max_depth': 12,\n",
    "    'feature_fraction': 0.35,\n",
    "    'bagging_fraction': 0.9,\n",
    "    'bagging_freq': 2,\n",
    "}\n",
    "rounds = 15000\n",
    "d_train = lgb.Dataset(X_train, label=Y_train)\n",
    "d_valid = lgb.Dataset(X_val, label=Y_val)"
   ]
  },
  {
   "cell_type": "code",
   "execution_count": null,
   "metadata": {
    "id": "KwC9j1ozF78Y"
   },
   "outputs": [],
   "source": [
    "del X_train, X_val, Y_train, Y_val\n"
   ]
  },
  {
   "cell_type": "code",
   "execution_count": null,
   "metadata": {
    "id": "eJeX4g52QKnI"
   },
   "outputs": [],
   "source": [
    "def save_model_callback(env):\n",
    "    if (env.iteration + 1) % 50 == 0:\n",
    "        env.model.save_model(f\"model_iter_{env.iteration + 1}.txt\")"
   ]
  },
  {
   "cell_type": "code",
   "execution_count": null,
   "metadata": {
    "colab": {
     "base_uri": "https://localhost:8080/"
    },
    "id": "XeQK52EkF-vB",
    "outputId": "0e97aa89-97ea-4b55-abe5-8510aa47a681"
   },
   "outputs": [],
   "source": [
    "valid_sets = [d_train, d_valid]\n",
    "valid_names = ['train', 'valid']\n",
    "gbdt = lgb.train(params,\n",
    "                 d_train,\n",
    "                 rounds,\n",
    "                 valid_sets=valid_sets,\n",
    "                 valid_names=valid_names,\n",
    "                 callbacks=[lgb.log_evaluation(period=20)])"
   ]
  },
  {
   "cell_type": "code",
   "execution_count": null,
   "metadata": {
    "id": "A9ue0Z1FGA6o"
   },
   "outputs": [],
   "source": [
    "features = gbdt.feature_name_\n",
    "importance = list(gbdt.feature_importance())\n",
    "importance = zip(features, importance)\n",
    "importance = sorted(importance, key=lambda x: x[1])\n",
    "total = sum(j for i, j in importance)\n",
    "importance = [(i, float(j)/total) for i, j in importance]\n",
    "pp.pprint(importance)"
   ]
  },
  {
   "cell_type": "code",
   "execution_count": null,
   "metadata": {
    "id": "vDpv0iLsGDW8"
   },
   "outputs": [],
   "source": [
    "test_preds = gbdt.predict(X_test, num_iteration=gbdt.best_iteration)\n"
   ]
  },
  {
   "cell_type": "code",
   "execution_count": null,
   "metadata": {
    "id": "B0lUk2JPGGL4"
   },
   "outputs": [],
   "source": [
    "dirname = 'predictions_gbm'\n",
    "if not os.path.isdir(dirname):\n",
    "    os.makedirs(dirname)\n",
    "\n",
    "np.save(os.path.join(dirname, 'order_ids.npy'), test_orders)\n",
    "np.save(os.path.join(dirname, 'product_ids.npy'), test_products)\n",
    "np.save(os.path.join(dirname, 'predictions.npy'), test_preds)\n",
    "np.save(os.path.join(dirname, 'labels.npy'), test_labels)"
   ]
  }
 ],
 "metadata": {
  "accelerator": "TPU",
  "colab": {
   "authorship_tag": "ABX9TyO5pqet3XKQJC07IWsIk75a",
   "gpuType": "V28",
   "provenance": []
  },
  "kernelspec": {
   "display_name": "Python 3",
   "name": "python3"
  },
  "language_info": {
   "name": "python"
  }
 },
 "nbformat": 4,
 "nbformat_minor": 0
}
