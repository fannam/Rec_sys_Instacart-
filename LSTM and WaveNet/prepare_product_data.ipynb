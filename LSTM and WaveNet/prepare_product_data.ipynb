{
 "cells": [
  {
   "cell_type": "code",
   "execution_count": 1,
   "metadata": {},
   "outputs": [],
   "source": [
    "from collections import Counter\n",
    "import os\n",
    "\n",
    "import numpy as np\n",
    "import pandas as pd\n",
    "import pickle\n",
    "import fasttext"
   ]
  },
  {
   "cell_type": "code",
   "execution_count": 2,
   "metadata": {},
   "outputs": [],
   "source": [
    "with open(\"../product2vec/data/prod_to_vec.pkl\", 'rb') as file:\n",
    "    prod_2_vec = pickle.load(file)"
   ]
  },
  {
   "cell_type": "code",
   "execution_count": 3,
   "metadata": {},
   "outputs": [],
   "source": [
    "prod_2_vec[0] = np.zeros(25, dtype=np.float32)"
   ]
  },
  {
   "cell_type": "code",
   "execution_count": 4,
   "metadata": {},
   "outputs": [],
   "source": [
    "def pad_1d(array, max_len):\n",
    "    if not isinstance(array, list):\n",
    "        array = list(array)\n",
    "    array = array[:max_len]\n",
    "    length = len(array)\n",
    "    if not length:\n",
    "        print(array)\n",
    "    padded = array + [0]*(max_len - len(array))\n",
    "    return padded, length"
   ]
  },
  {
   "cell_type": "code",
   "execution_count": 5,
   "metadata": {},
   "outputs": [],
   "source": [
    "def make_word_idx(product_names):\n",
    "    words = [word for name in product_names for word in name.split()]\n",
    "    word_counts = Counter(words)\n",
    "\n",
    "    max_id = 1\n",
    "    word_idx = {}\n",
    "    for word, count in word_counts.items():\n",
    "        if count < 10:\n",
    "            word_idx[word] = 0\n",
    "        else:\n",
    "            word_idx[word] = max_id\n",
    "            max_id += 1\n",
    "\n",
    "    return word_idx"
   ]
  },
  {
   "cell_type": "code",
   "execution_count": 6,
   "metadata": {},
   "outputs": [],
   "source": [
    "def encode_text(text, word_idx):\n",
    "    return ' '.join([str(word_idx[i]) for i in text.strip().split()]) if text else '0'"
   ]
  },
  {
   "cell_type": "markdown",
   "metadata": {},
   "source": [
    "# MAIN FLOW"
   ]
  },
  {
   "cell_type": "code",
   "execution_count": 7,
   "metadata": {},
   "outputs": [],
   "source": [
    "product_data = pd.read_csv('../data/processed/product_data.csv')\n"
   ]
  },
  {
   "cell_type": "code",
   "execution_count": 8,
   "metadata": {},
   "outputs": [],
   "source": [
    "product_df = pd.read_csv('../data/raw/products.csv')"
   ]
  },
  {
   "cell_type": "code",
   "execution_count": 9,
   "metadata": {},
   "outputs": [],
   "source": [
    "product_data['product_name'] = product_data['product_name'].map(lambda x: x.lower())\n",
    "product_df['product_name'] = product_df['product_name'].map(lambda x: x.lower())\n"
   ]
  },
  {
   "cell_type": "code",
   "execution_count": 10,
   "metadata": {},
   "outputs": [],
   "source": [
    "word_idx = make_word_idx(product_df['product_name'].tolist())\n",
    "product_data['product_name_encoded'] = product_data['product_name'].map(lambda x: encode_text(x, word_idx))\n",
    "\n",
    "num_rows = len(product_data)\n"
   ]
  },
  {
   "cell_type": "code",
   "execution_count": 11,
   "metadata": {},
   "outputs": [],
   "source": [
    "user_id = np.zeros(shape=[num_rows,], dtype=np.int32)\n",
    "product_id = np.zeros(shape=[num_rows,], dtype=np.int32)\n",
    "aisle_id = np.zeros(shape=[num_rows,], dtype=np.int16)\n",
    "department_id = np.zeros(shape=[num_rows,], dtype=np.int8)\n",
    "eval_set = np.zeros(shape=[num_rows,], dtype='S5')\n",
    "label = np.zeros(shape=[num_rows,], dtype=np.int8)"
   ]
  },
  {
   "cell_type": "code",
   "execution_count": 12,
   "metadata": {},
   "outputs": [],
   "source": [
    "is_ordered_history = np.zeros(shape=[num_rows, 100], dtype=np.uint8)\n",
    "index_in_order_history = np.zeros(shape=[num_rows, 100], dtype=np.uint8)\n",
    "order_dow_history = np.zeros(shape=[num_rows, 100], dtype=np.uint8)\n",
    "order_hour_history = np.zeros(shape=[num_rows, 100], dtype=np.uint8)\n",
    "days_since_prior_order_history = np.zeros(shape=[num_rows, 100], dtype=np.uint8)\n",
    "order_size_history = np.zeros(shape=[num_rows, 100], dtype=np.uint8)\n",
    "reorder_size_history = np.zeros(shape=[num_rows, 100], dtype=np.uint8)\n",
    "order_number_history = np.zeros(shape=[num_rows, 100], dtype=np.uint8)\n",
    "product_name = np.zeros(shape=[num_rows, 30], dtype=np.int32)\n",
    "product_embedding = np.zeros(shape=[num_rows, 25], dtype=np.float32)\n",
    "product_name_length = np.zeros(shape=[num_rows], dtype=np.uint8)\n",
    "history_length = np.zeros(shape=[num_rows], dtype=np.uint8)"
   ]
  },
  {
   "cell_type": "code",
   "execution_count": 13,
   "metadata": {},
   "outputs": [],
   "source": [
    "import warnings\n",
    "warnings.filterwarnings(\"error\")"
   ]
  },
  {
   "cell_type": "code",
   "execution_count": null,
   "metadata": {},
   "outputs": [],
   "source": [
    "\n",
    "for i, row in product_data.iterrows():\n",
    "    if i % 10000 == 0:\n",
    "        print(i, num_rows)\n",
    "    user_id[i] = row['user_id']\n",
    "    product_id[i] = row['product_id']\n",
    "    aisle_id[i] = row['aisle_id']\n",
    "    department_id[i] = row['department_id']\n",
    "    eval_set[i] = row['eval_set']\n",
    "    label[i] = row['label']\n",
    "    is_ordered_history[i, :], history_length[i] = pad_1d(map(int, row['is_ordered_history'].strip().split()), 100)\n",
    "    index_in_order_history[i, :], _ = pad_1d(map(int, row['index_in_order_history'].strip().split()), 100)\n",
    "    order_dow_history[i, :], _ = pad_1d(map(int, row['order_dow_history'].strip().split()), 100)\n",
    "    order_hour_history[i, :], _ = pad_1d(map(int, row['order_hour_history'].strip().split()), 100)\n",
    "    days_since_prior_order_history[i, :], _ = pad_1d(map(int, row['days_since_prior_order_history'].strip().split()), 100)\n",
    "    order_size_history[i, :], _ = pad_1d(map(int, row['order_size_history'].strip().split()), 100)\n",
    "    reorder_size_history[i, :], _ = pad_1d(map(int, row['reorder_size_history'].strip().split()), 100)\n",
    "    order_number_history[i, :], _ = pad_1d(map(int, row['order_number_history'].strip().split()), 100)\n",
    "    product_embedding[i, :] = prod_2_vec[row['product_id']]\n",
    "    product_name[i, :], product_name_length[i] = pad_1d(map(int, row['product_name_encoded'].strip().split()), 30)"
   ]
  },
  {
   "cell_type": "code",
   "execution_count": 27,
   "metadata": {},
   "outputs": [],
   "source": [
    "if not os.path.isdir('data'):\n",
    "    os.mkdir('data')"
   ]
  },
  {
   "cell_type": "code",
   "execution_count": 29,
   "metadata": {},
   "outputs": [],
   "source": [
    "np.save('data/user_id.npy', user_id)\n",
    "np.save('data/product_id.npy', product_id)\n",
    "np.save('data/aisle_id.npy', aisle_id)\n",
    "np.save('data/department_id.npy', department_id)\n",
    "np.save('data/eval_set.npy', eval_set)\n",
    "np.save('data/label.npy', label)\n",
    "\n",
    "np.save('data/is_ordered_history.npy', is_ordered_history)\n",
    "np.save('data/index_in_order_history.npy', index_in_order_history)\n",
    "np.save('data/order_dow_history.npy', order_dow_history)\n",
    "np.save('data/order_hour_history.npy', order_hour_history)\n",
    "np.save('data/days_since_prior_order_history.npy', days_since_prior_order_history)\n",
    "np.save('data/order_size_history.npy', order_size_history)\n",
    "np.save('data/reorder_size_history.npy', reorder_size_history)\n",
    "np.save('data/order_number_history.npy', order_number_history)\n",
    "np.save('data/product_embedding.npy', product_embedding)\n",
    "np.save('data/product_name.npy', product_name)\n",
    "np.save('data/product_name_length.npy', product_name_length)\n",
    "np.save('data/history_length.npy', history_length)"
   ]
  },
  {
   "cell_type": "code",
   "execution_count": null,
   "metadata": {},
   "outputs": [],
   "source": [
    "print(history_length.shape)"
   ]
  },
  {
   "cell_type": "code",
   "execution_count": null,
   "metadata": {},
   "outputs": [],
   "source": []
  }
 ],
 "metadata": {
  "kernelspec": {
   "display_name": "RecSys",
   "language": "python",
   "name": "python3"
  },
  "language_info": {
   "codemirror_mode": {
    "name": "ipython",
    "version": 3
   },
   "file_extension": ".py",
   "mimetype": "text/x-python",
   "name": "python",
   "nbconvert_exporter": "python",
   "pygments_lexer": "ipython3",
   "version": "3.9.20"
  }
 },
 "nbformat": 4,
 "nbformat_minor": 2
}
