{
 "cells": [
  {
   "cell_type": "code",
   "execution_count": null,
   "metadata": {
    "id": "NcYAnGIkfX34"
   },
   "outputs": [],
   "source": [
    "import os\n",
    "\n",
    "import numpy as np\n",
    "import pandas as pd"
   ]
  },
  {
   "cell_type": "code",
   "execution_count": null,
   "metadata": {
    "id": "IUT92099p01G"
   },
   "outputs": [],
   "source": [
    "import pickle"
   ]
  },
  {
   "cell_type": "code",
   "execution_count": null,
   "metadata": {
    "colab": {
     "base_uri": "https://localhost:8080/"
    },
    "executionInfo": {
     "elapsed": 18723,
     "status": "ok",
     "timestamp": 1734780355594,
     "user": {
      "displayName": "Phong Bùi",
      "userId": "01930406984270562856"
     },
     "user_tz": -420
    },
    "id": "j6XWCOZgff3x",
    "outputId": "c992837a-828d-4966-f125-9b77ec765db8"
   },
   "outputs": [],
   "source": [
    "from google.colab import drive\n",
    "drive.mount('/content/drive')"
   ]
  },
  {
   "cell_type": "code",
   "execution_count": null,
   "metadata": {
    "id": "Ei5p6dP0oBPC"
   },
   "outputs": [],
   "source": [
    "product_df = pd.read_csv('/content/drive/MyDrive/recsys_data/csv/processed/product_data.csv', usecols=['user_id', 'product_id', 'label'])\n",
    "products = pd.read_csv('/content/drive/MyDrive/recsys_data/csv/raw/products.csv')\n",
    "product_df = product_df.merge(products, how='left', on='product_id')\n",
    "\n",
    "orders = pd.read_csv('/content/drive/MyDrive/recsys_data/csv/raw/orders.csv')\n",
    "orders = orders[orders['eval_set'].isin({'train', 'test'})]\n",
    "product_df = product_df.merge(orders[['user_id', 'order_id']], how='left', on='user_id').reset_index(drop=True)\n",
    "product_df['is_none'] = (product_df['product_id'] == 0).astype(int)\n"
   ]
  },
  {
   "cell_type": "code",
   "execution_count": null,
   "metadata": {
    "id": "s5XVs93doUeW"
   },
   "outputs": [],
   "source": [
    "with open('/content/drive/MyDrive/recsys_data/prod2vec_data/prod_to_vec.pkl', 'rb') as file:\n",
    "  pickled_prod2vec = pickle.load(file)\n",
    "\n",
    "df = pd.DataFrame.from_dict(pickled_prod2vec, orient='index')\n",
    "\n",
    "df.reset_index(inplace=True)\n",
    "df.rename(columns={'index': 'product_id'}, inplace=True)\n",
    "\n",
    "df.columns = ['product_id'] + [f'prod2vec_embedding_{i}' for i in range(df.shape[1] - 1)]\n",
    "product_df = product_df.merge(df, how='left', on='product_id')\n"
   ]
  },
  {
   "cell_type": "code",
   "execution_count": null,
   "metadata": {
    "id": "e6Sa9McFqxx6"
   },
   "outputs": [],
   "source": [
    "dmf_p_matrix = np.load('dmf/product_embeddings.npy')\n",
    "product_emb_df = pd.DataFrame(dmf_p_matrix, columns=['dmf_product_{}'.format(i) for i in range(dmf_p_matrix.shape[1])])\n",
    "product_emb_df['product_id'] = np.arange(1, 49689)\n",
    "product_emb_df\n",
    "product_df = product_df.merge(product_emb_df, how='left', on='product_id')"
   ]
  },
  {
   "cell_type": "code",
   "execution_count": null,
   "metadata": {
    "id": "szyuqCH9tXMB"
   },
   "outputs": [],
   "source": [
    "dmf_u_matrix = np.load('dmf/user_embeddings.npy')\n",
    "user_emb_df = pd.DataFrame(dmf_u_matrix, columns=['dmf_user_{}'.format(i) for i in range(dmf_u_matrix.shape[1])])\n",
    "user_emb_df['user_id'] = np.arange(1, 206210)\n",
    "user_emb_df\n",
    "product_df = product_df.merge(user_emb_df, how='left', on='user_id')"
   ]
  },
  {
   "cell_type": "code",
   "execution_count": null,
   "metadata": {
    "colab": {
     "base_uri": "https://localhost:8080/"
    },
    "executionInfo": {
     "elapsed": 29491,
     "status": "ok",
     "timestamp": 1734780569312,
     "user": {
      "displayName": "Phong Bùi",
      "userId": "01930406984270562856"
     },
     "user_tz": -420
    },
    "id": "0XPyUbUnq-Ek",
    "outputId": "47c031e1-2676-4b50-da8d-796b8fbb7dba"
   },
   "outputs": [],
   "source": [
    "prefix = 'rnn_product'\n",
    "user_ids = np.load('rnn_product/data/user_id.npy')\n",
    "print(len(user_ids))\n",
    "final_states = np.load('rnn_product/final_states.npy')\n",
    "print(len(final_states))\n",
    "h_df = pd.DataFrame(np.load('rnn_product/final_states.npy')).add_prefix('{}_h'.format(prefix))[:len(user_ids)]\n",
    "h_df['user_id'] = user_ids\n",
    "h_df['product_id'] = np.load('rnn_product/data/product_id.npy')\n",
    "h_df['{}_prediction'.format(prefix)] = np.load('rnn_product/final_predictions.npy')[:len(user_ids)]\n",
    "product_df = product_df.merge(h_df, how='left', on=['user_id', 'product_id'])"
   ]
  },
  {
   "cell_type": "code",
   "execution_count": null,
   "metadata": {
    "id": "WDMz5Zr-u3Ej"
   },
   "outputs": [],
   "source": [
    "prefix = 'rnn_aisle'\n",
    "user_ids = np.load('rnn_aisle/data/user_id.npy')\n",
    "h_df = pd.DataFrame(np.load('rnn_aisle/final_states.npy')[:len(user_ids)]).add_prefix('{}_h'.format(prefix))\n",
    "h_df['user_id'] = user_ids\n",
    "h_df['aisle_id'] = np.load('rnn_aisle/data/aisle_id.npy')\n",
    "h_df['{}_prediction'.format(prefix)] = np.load('rnn_aisle/final_predictions.npy')[:len(user_ids)]\n",
    "product_df = product_df.merge(h_df, how='left', on=['user_id', 'aisle_id']).fillna(-1)"
   ]
  },
  {
   "cell_type": "code",
   "execution_count": null,
   "metadata": {
    "id": "XKturkVHvWzE"
   },
   "outputs": [],
   "source": [
    "prefix = 'rnn_department'\n",
    "user_ids = np.load('rnn_department/data/user_id.npy')\n",
    "h_df = pd.DataFrame(np.load('rnn_department/final_states.npy')[:len(user_ids)]).add_prefix('{}_h'.format(prefix))\n",
    "h_df['user_id'] = user_ids\n",
    "h_df['department_id'] = np.load('rnn_department/data/department_id.npy')\n",
    "h_df['{}_prediction'.format(prefix)] = np.load('rnn_department/final_predictions.npy')[:len(user_ids)]\n",
    "product_df = product_df.merge(h_df, how='left', on=['user_id', 'department_id']).fillna(-1)"
   ]
  },
  {
   "cell_type": "code",
   "execution_count": null,
   "metadata": {
    "id": "Qx2rQ09Ex_b5"
   },
   "outputs": [],
   "source": [
    "prefix = 'rnn_order'\n",
    "user_ids = np.load('rnn_order/data/user_id.npy')\n",
    "h_df = pd.DataFrame(np.load('rnn_order/final_states.npy')[:len(user_ids)]).add_prefix('{}_h'.format(prefix))\n",
    "h_df['user_id'] = user_ids\n",
    "h_df['{}_prediction'.format(prefix)] = np.load('rnn_order/final_predictions.npy')[:len(user_ids)]\n",
    "product_df = product_df.merge(h_df, how='left', on='user_id')"
   ]
  },
  {
   "cell_type": "code",
   "execution_count": null,
   "metadata": {
    "id": "gytE8YRpzcpD"
   },
   "outputs": [],
   "source": [
    "prefix = 'rnn_order_gmm'\n",
    "user_ids = np.load('rnn_order/data/user_id.npy')\n",
    "h_df = pd.DataFrame(np.load('rnn_order/final_states_gmm.npy')[:len(user_ids)]).add_prefix('{}_h'.format(prefix))\n",
    "h_df['user_id'] = user_ids\n",
    "product_df = product_df.merge(h_df, how='left', on='user_id')"
   ]
  },
  {
   "cell_type": "code",
   "execution_count": null,
   "metadata": {
    "id": "zSz-D3X50I0O"
   },
   "outputs": [],
   "source": [
    "drop_cols = [\n",
    "    'label',\n",
    "    'user_id',\n",
    "    'product_id',\n",
    "    'order_id',\n",
    "    'product_name',\n",
    "    'aisle_id',\n",
    "    'department_id',\n",
    "]\n",
    "user_id = product_df['user_id']\n",
    "product_id = product_df['product_id']\n",
    "order_id = product_df['order_id']\n",
    "label = product_df['label']\n",
    "\n",
    "product_df.drop(drop_cols, axis=1, inplace=True)\n",
    "features = product_df.values\n",
    "feature_names = product_df.columns.values\n",
    "feature_maxs = features.max(axis=0)\n",
    "feature_mins = features.min(axis=0)\n",
    "feature_means = features.mean(axis=0)"
   ]
  },
  {
   "cell_type": "code",
   "execution_count": null,
   "metadata": {
    "id": "uhZMUUma1SgQ"
   },
   "outputs": [],
   "source": [
    "if not os.path.isdir('prepped_data'):\n",
    "    os.makedirs('prepped_data')\n",
    "\n",
    "np.save('prepped_data/user_id.npy', user_id)\n",
    "np.save('prepped_data/product_id.npy', product_id)\n",
    "np.save('prepped_data/order_id.npy', order_id)\n",
    "np.save('prepped_data/features.npy', features)\n",
    "np.save('prepped_data/feature_names.npy', product_df.columns)\n",
    "np.save('prepped_data/feature_maxs.npy', feature_maxs)\n",
    "np.save('prepped_data/feature_mins.npy', feature_mins)\n",
    "np.save('prepped_data/feature_means.npy', feature_means)\n",
    "np.save('prepped_data/label.npy', label)"
   ]
  },
  {
   "cell_type": "code",
   "execution_count": null,
   "metadata": {
    "colab": {
     "base_uri": "https://localhost:8080/"
    },
    "executionInfo": {
     "elapsed": 1086721,
     "status": "ok",
     "timestamp": 1734782381882,
     "user": {
      "displayName": "Phong Bùi",
      "userId": "01930406984270562856"
     },
     "user_tz": -420
    },
    "id": "RJIAuDEU1gxu",
    "outputId": "4c2a36b9-dc4c-4186-a930-a78a1988a3b2"
   },
   "outputs": [],
   "source": [
    "!zip Archive.zip -r prepped_data"
   ]
  },
  {
   "cell_type": "code",
   "execution_count": null,
   "metadata": {
    "id": "w0LSQqvfBdhW"
   },
   "outputs": [],
   "source": [
    "!mv Archive.zip /content/drive/MyDrive/recsys_data/blend_data"
   ]
  },
  {
   "cell_type": "code",
   "execution_count": null,
   "metadata": {
    "id": "oRZBp8gBELWt"
   },
   "outputs": [],
   "source": [
    "from google.colab import runtime\n",
    "runtime.unassign()"
   ]
  },
  {
   "cell_type": "code",
   "execution_count": null,
   "metadata": {
    "id": "sCzl-hosEMLv"
   },
   "outputs": [],
   "source": []
  }
 ],
 "metadata": {
  "accelerator": "TPU",
  "colab": {
   "authorship_tag": "ABX9TyMfH84lezJ/pCTfvgu5N26b",
   "gpuType": "V28",
   "provenance": []
  },
  "kernelspec": {
   "display_name": "Python 3",
   "name": "python3"
  },
  "language_info": {
   "name": "python"
  }
 },
 "nbformat": 4,
 "nbformat_minor": 0
}
