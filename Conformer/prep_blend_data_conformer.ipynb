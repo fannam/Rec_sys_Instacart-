{
 "cells": [
  {
   "cell_type": "code",
   "execution_count": 1,
   "metadata": {
    "executionInfo": {
     "elapsed": 637,
     "status": "ok",
     "timestamp": 1735110292895,
     "user": {
      "displayName": "Phong Bùi",
      "userId": "01930406984270562856"
     },
     "user_tz": -420
    },
    "id": "NcYAnGIkfX34"
   },
   "outputs": [],
   "source": [
    "import os\n",
    "\n",
    "import numpy as np\n",
    "import pandas as pd"
   ]
  },
  {
   "cell_type": "code",
   "execution_count": 2,
   "metadata": {
    "executionInfo": {
     "elapsed": 4,
     "status": "ok",
     "timestamp": 1735110292896,
     "user": {
      "displayName": "Phong Bùi",
      "userId": "01930406984270562856"
     },
     "user_tz": -420
    },
    "id": "IUT92099p01G"
   },
   "outputs": [],
   "source": [
    "import pickle"
   ]
  },
  {
   "cell_type": "code",
   "execution_count": null,
   "metadata": {
    "colab": {
     "base_uri": "https://localhost:8080/"
    },
    "executionInfo": {
     "elapsed": 16244,
     "status": "ok",
     "timestamp": 1735110309136,
     "user": {
      "displayName": "Phong Bùi",
      "userId": "01930406984270562856"
     },
     "user_tz": -420
    },
    "id": "j6XWCOZgff3x",
    "outputId": "f7c3686e-628d-45e1-d640-5e7568174aed"
   },
   "outputs": [],
   "source": [
    "from google.colab import drive\n",
    "drive.mount('/content/drive')"
   ]
  },
  {
   "cell_type": "code",
   "execution_count": 8,
   "metadata": {
    "executionInfo": {
     "elapsed": 61899,
     "status": "ok",
     "timestamp": 1735110425711,
     "user": {
      "displayName": "Phong Bùi",
      "userId": "01930406984270562856"
     },
     "user_tz": -420
    },
    "id": "Ei5p6dP0oBPC"
   },
   "outputs": [],
   "source": [
    "product_df = pd.read_csv('/content/drive/MyDrive/recsys_data/csv/processed/product_data.csv', usecols=['user_id', 'product_id', 'label'])\n",
    "products = pd.read_csv('/content/drive/MyDrive/recsys_data/csv/raw/products.csv')\n",
    "product_df = product_df.merge(products, how='left', on='product_id')\n",
    "\n",
    "orders = pd.read_csv('/content/drive/MyDrive/recsys_data/csv/raw/orders.csv')\n",
    "orders = orders[orders['eval_set'].isin({'train', 'test'})]\n",
    "product_df = product_df.merge(orders[['user_id', 'order_id']], how='left', on='user_id').reset_index(drop=True)\n",
    "product_df['is_none'] = (product_df['product_id'] == 0).astype(int)\n"
   ]
  },
  {
   "cell_type": "code",
   "execution_count": 9,
   "metadata": {
    "executionInfo": {
     "elapsed": 4245,
     "status": "ok",
     "timestamp": 1735110429953,
     "user": {
      "displayName": "Phong Bùi",
      "userId": "01930406984270562856"
     },
     "user_tz": -420
    },
    "id": "s5XVs93doUeW"
   },
   "outputs": [],
   "source": [
    "with open('/content/drive/MyDrive/recsys_data/prod2vec_data/prod_to_vec.pkl', 'rb') as file:\n",
    "  pickled_prod2vec = pickle.load(file)\n",
    "\n",
    "df = pd.DataFrame.from_dict(pickled_prod2vec, orient='index')\n",
    "\n",
    "df.reset_index(inplace=True)\n",
    "df.rename(columns={'index': 'product_id'}, inplace=True)\n",
    "\n",
    "df.columns = ['product_id'] + [f'prod2vec_embedding_{i}' for i in range(df.shape[1] - 1)]\n",
    "product_df = product_df.merge(df, how='left', on='product_id')\n"
   ]
  },
  {
   "cell_type": "code",
   "execution_count": null,
   "metadata": {
    "colab": {
     "base_uri": "https://localhost:8080/"
    },
    "executionInfo": {
     "elapsed": 38208,
     "status": "ok",
     "timestamp": 1735110482611,
     "user": {
      "displayName": "Phong Bùi",
      "userId": "01930406984270562856"
     },
     "user_tz": -420
    },
    "id": "0XPyUbUnq-Ek",
    "outputId": "a5c39bda-423a-4194-d68b-04cc06dba90a"
   },
   "outputs": [],
   "source": [
    "prefix = 'conformer_product'\n",
    "user_ids = np.load('conformer_product/data/user_id.npy')\n",
    "print(len(user_ids))\n",
    "final_states = np.load('conformer_product/final_states.npy')\n",
    "print(len(final_states))\n",
    "h_df = pd.DataFrame(np.load('conformer_product/final_states.npy')).add_prefix('{}_h'.format(prefix))[:len(user_ids)]\n",
    "h_df['user_id'] = user_ids\n",
    "h_df['product_id'] = np.load('conformer_product/data/product_id.npy')\n",
    "h_df['{}_prediction'.format(prefix)] = np.load('conformer_product/final_predictions.npy')[:len(user_ids)]\n",
    "product_df = product_df.merge(h_df, how='left', on=['user_id', 'product_id'])"
   ]
  },
  {
   "cell_type": "code",
   "execution_count": null,
   "metadata": {},
   "outputs": [],
   "source": [
    "prefix = 'rnn_aisle'\n",
    "user_ids = np.load('rnn_aisle/data/user_id.npy')\n",
    "h_df = pd.DataFrame(np.load('rnn_aisle/final_states.npy')[:len(user_ids)]).add_prefix('{}_h'.format(prefix))\n",
    "h_df['user_id'] = user_ids\n",
    "h_df['aisle_id'] = np.load('rnn_aisle/data/aisle_id.npy')\n",
    "h_df['{}_prediction'.format(prefix)] = np.load('rnn_aisle/final_predictions.npy')[:len(user_ids)]\n",
    "product_df = product_df.merge(h_df, how='left', on=['user_id', 'aisle_id']).fillna(-1)"
   ]
  },
  {
   "cell_type": "code",
   "execution_count": null,
   "metadata": {},
   "outputs": [],
   "source": [
    "prefix = 'rnn_department'\n",
    "user_ids = np.load('rnn_department/data/user_id.npy')\n",
    "h_df = pd.DataFrame(np.load('rnn_department/final_states.npy')[:len(user_ids)]).add_prefix('{}_h'.format(prefix))\n",
    "h_df['user_id'] = user_ids\n",
    "h_df['department_id'] = np.load('rnn_department/data/department_id.npy')\n",
    "h_df['{}_prediction'.format(prefix)] = np.load('rnn_department/final_predictions.npy')[:len(user_ids)]\n",
    "product_df = product_df.merge(h_df, how='left', on=['user_id', 'department_id']).fillna(-1)"
   ]
  },
  {
   "cell_type": "code",
   "execution_count": 11,
   "metadata": {
    "executionInfo": {
     "elapsed": 19945,
     "status": "ok",
     "timestamp": 1735110502554,
     "user": {
      "displayName": "Phong Bùi",
      "userId": "01930406984270562856"
     },
     "user_tz": -420
    },
    "id": "Qx2rQ09Ex_b5"
   },
   "outputs": [],
   "source": [
    "prefix = 'conformer_order'\n",
    "user_ids = np.load('conformer_order/data/user_id.npy')\n",
    "h_df = pd.DataFrame(np.load('conformer_order/final_states.npy')[:len(user_ids)]).add_prefix('{}_h'.format(prefix))\n",
    "h_df['user_id'] = user_ids\n",
    "h_df['{}_prediction'.format(prefix)] = np.load('conformer_order/pred_order_size.npy')[:len(user_ids)]\n",
    "product_df = product_df.merge(h_df, how='left', on='user_id')"
   ]
  },
  {
   "cell_type": "code",
   "execution_count": 12,
   "metadata": {
    "executionInfo": {
     "elapsed": 16622,
     "status": "ok",
     "timestamp": 1735110519173,
     "user": {
      "displayName": "Phong Bùi",
      "userId": "01930406984270562856"
     },
     "user_tz": -420
    },
    "id": "zSz-D3X50I0O"
   },
   "outputs": [],
   "source": [
    "drop_cols = [\n",
    "    'label',\n",
    "    'user_id',\n",
    "    'product_id',\n",
    "    'order_id',\n",
    "    'product_name',\n",
    "    'aisle_id'.\n",
    "    'department_id'\n",
    "]\n",
    "user_id = product_df['user_id']\n",
    "product_id = product_df['product_id']\n",
    "order_id = product_df['order_id']\n",
    "label = product_df['label']\n",
    "\n",
    "product_df.drop(drop_cols, axis=1, inplace=True)\n",
    "features = product_df.values\n",
    "feature_names = product_df.columns.values\n",
    "feature_maxs = features.max(axis=0)\n",
    "feature_mins = features.min(axis=0)\n",
    "feature_means = features.mean(axis=0)"
   ]
  },
  {
   "cell_type": "code",
   "execution_count": 13,
   "metadata": {
    "executionInfo": {
     "elapsed": 182681,
     "status": "ok",
     "timestamp": 1735110701851,
     "user": {
      "displayName": "Phong Bùi",
      "userId": "01930406984270562856"
     },
     "user_tz": -420
    },
    "id": "uhZMUUma1SgQ"
   },
   "outputs": [],
   "source": [
    "if not os.path.isdir('prepped_data'):\n",
    "    os.makedirs('prepped_data')\n",
    "\n",
    "np.save('prepped_data/user_id.npy', user_id)\n",
    "np.save('prepped_data/product_id.npy', product_id)\n",
    "np.save('prepped_data/order_id.npy', order_id)\n",
    "np.save('prepped_data/features.npy', features)\n",
    "np.save('prepped_data/feature_names.npy', product_df.columns)\n",
    "np.save('prepped_data/feature_maxs.npy', feature_maxs)\n",
    "np.save('prepped_data/feature_mins.npy', feature_mins)\n",
    "np.save('prepped_data/feature_means.npy', feature_means)\n",
    "np.save('prepped_data/label.npy', label)"
   ]
  },
  {
   "cell_type": "code",
   "execution_count": null,
   "metadata": {
    "colab": {
     "base_uri": "https://localhost:8080/"
    },
    "executionInfo": {
     "elapsed": 434129,
     "status": "ok",
     "timestamp": 1735111136954,
     "user": {
      "displayName": "Phong Bùi",
      "userId": "01930406984270562856"
     },
     "user_tz": -420
    },
    "id": "RJIAuDEU1gxu",
    "outputId": "1f69aa67-f4cb-45ae-ab5b-6d17c0680484"
   },
   "outputs": [],
   "source": [
    "!zip Archive2.zip -r prepped_data"
   ]
  },
  {
   "cell_type": "code",
   "execution_count": 15,
   "metadata": {
    "executionInfo": {
     "elapsed": 3382,
     "status": "ok",
     "timestamp": 1735111140333,
     "user": {
      "displayName": "Phong Bùi",
      "userId": "01930406984270562856"
     },
     "user_tz": -420
    },
    "id": "w0LSQqvfBdhW"
   },
   "outputs": [],
   "source": [
    "!mv Archive2.zip /content/drive/MyDrive/recsys_data/blend_data2"
   ]
  },
  {
   "cell_type": "code",
   "execution_count": null,
   "metadata": {
    "colab": {
     "base_uri": "https://localhost:8080/"
    },
    "executionInfo": {
     "elapsed": 431,
     "status": "ok",
     "timestamp": 1735070960031,
     "user": {
      "displayName": "Phong Bùi",
      "userId": "01930406984270562856"
     },
     "user_tz": -420
    },
    "id": "ZrMVJGg2SbGZ",
    "outputId": "bf4e944c-c7f0-4d5e-8283-bd7dbbb00dbb"
   },
   "outputs": [],
   "source": [
    "!ls -a /content/drive/MyDrive/recsys_data/blend_data2"
   ]
  },
  {
   "cell_type": "code",
   "execution_count": null,
   "metadata": {
    "id": "oRZBp8gBELWt"
   },
   "outputs": [],
   "source": [
    "from google.colab import runtime\n",
    "runtime.unassign()"
   ]
  },
  {
   "cell_type": "code",
   "execution_count": null,
   "metadata": {
    "id": "sCzl-hosEMLv"
   },
   "outputs": [],
   "source": []
  }
 ],
 "metadata": {
  "accelerator": "TPU",
  "colab": {
   "authorship_tag": "ABX9TyPE0Zk0S6Bwuy+QOseWvvrh",
   "gpuType": "V28",
   "provenance": [
    {
     "file_id": "1TSU7W74miZBKpsN8tgzoMLMPg0iZISmy",
     "timestamp": 1735068078202
    }
   ]
  },
  "kernelspec": {
   "display_name": "Python 3",
   "name": "python3"
  },
  "language_info": {
   "name": "python"
  }
 },
 "nbformat": 4,
 "nbformat_minor": 0
}
